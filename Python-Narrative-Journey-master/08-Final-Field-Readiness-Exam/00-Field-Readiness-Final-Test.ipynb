{
 "cells": [
  {
   "cell_type": "markdown",
   "metadata": {
    "collapsed": true
   },
   "source": [
    "# Final Field Readiness Test \n",
    "\n",
    "** For this test you will be using Object Oriented Programming to create an object that uses a modified Ceaser Cipher. Check out the video for an explanation of how the object will work. The basic idea is the following, given a message such as \"hello world\", the encryption should perform the following steps:**\n",
    "\n",
    "** The encryption method you will create: **\n",
    "\n",
    "1. Accept a string, such as: \"hello world\"\n",
    "2. Add in a random letter in every other index position in the string, for example: 'hueqlzlpom cwgosrhlbdg'\n",
    "3. Then reverse this string, for example: 'gdblhrsogwc moplzlqeuh'\n",
    "4. Then create a shuffled version of the alphabet (remember to set a seed to the random.seed() so you can get this shuffled version again by providing the same seed number).\n",
    "5. Just like a classic ceaser cipher, match up the index of each letter and then encrypt the letters using this shuffled alphabet.\n",
    "\n",
    "The end result will be a string something like \"divgkjocdze bcrgqghywk\" for our previous example.\n",
    "\n",
    "To decrypt this, reverse the steps. The hardest step to reverse is the randomized shuffling of the alphabet, to regain the same shuffling, you will need the seed key. The method for the decryption will accept this as an argument.\n",
    "\n",
    "The \"skeleton\" of the code has been outlined for you to fill out below. Best of luck!"
   ]
  },
  {
   "cell_type": "code",
   "execution_count": 4,
   "metadata": {
    "collapsed": true
   },
   "outputs": [],
   "source": [
    "# Imports you might need\n",
    "import string\n",
    "import random"
   ]
  },
  {
   "cell_type": "code",
   "execution_count": 11,
   "metadata": {
    "collapsed": true
   },
   "outputs": [],
   "source": [
    "class Encryption:\n",
    "\n",
    "    def __init__(self, seed):\n",
    "        self.seed = seed\n",
    "        random.seed(seed)\n",
    "        self.encrypted_text = []\n",
    "        self.alphabet = list(string.ascii_lowercase)\n",
    "        self.shuffle_alphabet = random.sample(self.alphabet, len(self.alphabet))\n",
    "\n",
    "    def encryption(self, message):\n",
    "        message_list = list(message.lower())\n",
    "        for letter in message_list:\n",
    "            self.encrypted_text.append(letter)\n",
    "            if letter in self.alphabet:\n",
    "                self.encrypted_text.append(random.sample(self.alphabet, 1)[0])\n",
    "        self.encrypted_text = self.encrypted_text[::-1]\n",
    "        for i in range(len(self.encrypted_text)):\n",
    "            if self.encrypted_text[i] in self.alphabet:\n",
    "                self.encrypted_text[i] = self.shuffle_alphabet[self.alphabet.index(self.encrypted_text[i])]\n",
    "        return ''.join(self.encrypted_text)\n",
    "\n",
    "    def decryptipon(self, message):\n",
    "        message_list = list(message.lower())\n",
    "        for i in range(len(message_list)):\n",
    "            if message_list[i] in self.alphabet:\n",
    "                message_list[i] = self.alphabet[self.shuffle_alphabet.index(message_list[i])]\n",
    "        message_list = message_list[::-1]\n",
    "        for i in range(len(message_list)):\n",
    "            try:\n",
    "                if message_list[i] in self.alphabet:\n",
    "                    del message_list[i+1]\n",
    "            except:\n",
    "                pass\n",
    "        return ''.join(message_list)"
   ]
  },
  {
   "cell_type": "markdown",
   "metadata": {},
   "source": [
    "**Example of this in action:**"
   ]
  },
  {
   "cell_type": "code",
   "execution_count": 12,
   "metadata": {
    "collapsed": true
   },
   "outputs": [],
   "source": [
    "e = Encryption(20)"
   ]
  },
  {
   "cell_type": "code",
   "execution_count": 13,
   "metadata": {},
   "outputs": [
    {
     "data": {
      "text/plain": [
       "'divgkjocdze bcrgqghywk'"
      ]
     },
     "execution_count": 13,
     "metadata": {},
     "output_type": "execute_result"
    }
   ],
   "source": [
    "e.encryption('hello world')"
   ]
  },
  {
   "cell_type": "code",
   "execution_count": 14,
   "metadata": {},
   "outputs": [
    {
     "data": {
      "text/plain": [
       "'hello world'"
      ]
     },
     "execution_count": 14,
     "metadata": {},
     "output_type": "execute_result"
    }
   ],
   "source": [
    "e.decryption('divgkjocdze bcrgqghywk',20)"
   ]
  },
  {
   "cell_type": "markdown",
   "metadata": {},
   "source": [
    "Best of luck!"
   ]
  }
 ],
 "metadata": {
  "kernelspec": {
   "display_name": "Python 3",
   "language": "python",
   "name": "python3"
  },
  "language_info": {
   "codemirror_mode": {
    "name": "ipython",
    "version": 3
   },
   "file_extension": ".py",
   "mimetype": "text/x-python",
   "name": "python",
   "nbconvert_exporter": "python",
   "pygments_lexer": "ipython3",
   "version": "3.6.1"
  },
  "pycharm": {
   "stem_cell": {
    "cell_type": "raw",
    "source": [],
    "metadata": {
     "collapsed": false
    }
   }
  }
 },
 "nbformat": 4,
 "nbformat_minor": 2
}